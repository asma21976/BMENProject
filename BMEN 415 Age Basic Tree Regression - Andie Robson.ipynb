{
 "cells": [
  {
   "cell_type": "code",
   "execution_count": 55,
   "metadata": {},
   "outputs": [],
   "source": [
    "import pandas as pd\n",
    "import numpy as np"
   ]
  },
  {
   "cell_type": "code",
   "execution_count": 56,
   "metadata": {},
   "outputs": [],
   "source": [
    "data = pd.read_excel (\"Volumetric_features.xlsx\")"
   ]
  },
  {
   "cell_type": "code",
   "execution_count": 57,
   "metadata": {},
   "outputs": [
    {
     "data": {
      "text/html": [
       "<div>\n",
       "<style scoped>\n",
       "    .dataframe tbody tr th:only-of-type {\n",
       "        vertical-align: middle;\n",
       "    }\n",
       "\n",
       "    .dataframe tbody tr th {\n",
       "        vertical-align: top;\n",
       "    }\n",
       "\n",
       "    .dataframe thead th {\n",
       "        text-align: right;\n",
       "    }\n",
       "</style>\n",
       "<table border=\"1\" class=\"dataframe\">\n",
       "  <thead>\n",
       "    <tr style=\"text-align: right;\">\n",
       "      <th></th>\n",
       "      <th>S.No</th>\n",
       "      <th>Left-Lateral-Ventricle</th>\n",
       "      <th>Left-Inf-Lat-Vent</th>\n",
       "      <th>Left-Cerebellum-White-Matter</th>\n",
       "      <th>Left-Cerebellum-Cortex</th>\n",
       "      <th>Left-Thalamus</th>\n",
       "      <th>Left-Caudate</th>\n",
       "      <th>Left-Putamen</th>\n",
       "      <th>Left-Pallidum</th>\n",
       "      <th>3rd-Ventricle</th>\n",
       "      <th>...</th>\n",
       "      <th>rh_supramarginal_thickness</th>\n",
       "      <th>rh_frontalpole_thickness</th>\n",
       "      <th>rh_temporalpole_thickness</th>\n",
       "      <th>rh_transversetemporal_thickness</th>\n",
       "      <th>rh_insula_thickness</th>\n",
       "      <th>rh_MeanThickness_thickness</th>\n",
       "      <th>BrainSegVolNotVent.2</th>\n",
       "      <th>eTIV.1</th>\n",
       "      <th>Age</th>\n",
       "      <th>dataset</th>\n",
       "    </tr>\n",
       "  </thead>\n",
       "  <tbody>\n",
       "    <tr>\n",
       "      <th>0</th>\n",
       "      <td>1</td>\n",
       "      <td>22916.9</td>\n",
       "      <td>982.7</td>\n",
       "      <td>15196.7</td>\n",
       "      <td>55796.4</td>\n",
       "      <td>6855.5</td>\n",
       "      <td>2956.4</td>\n",
       "      <td>4240.7</td>\n",
       "      <td>2223.9</td>\n",
       "      <td>2034.4</td>\n",
       "      <td>...</td>\n",
       "      <td>2.408</td>\n",
       "      <td>2.629</td>\n",
       "      <td>3.519</td>\n",
       "      <td>2.009</td>\n",
       "      <td>2.825</td>\n",
       "      <td>2.33635</td>\n",
       "      <td>1093846</td>\n",
       "      <td>1619602.965</td>\n",
       "      <td>85</td>\n",
       "      <td>1</td>\n",
       "    </tr>\n",
       "    <tr>\n",
       "      <th>1</th>\n",
       "      <td>2</td>\n",
       "      <td>22953.2</td>\n",
       "      <td>984.5</td>\n",
       "      <td>15289.7</td>\n",
       "      <td>55778.6</td>\n",
       "      <td>6835.1</td>\n",
       "      <td>3064.2</td>\n",
       "      <td>4498.6</td>\n",
       "      <td>2354.1</td>\n",
       "      <td>1927.1</td>\n",
       "      <td>...</td>\n",
       "      <td>2.417</td>\n",
       "      <td>2.640</td>\n",
       "      <td>3.488</td>\n",
       "      <td>2.111</td>\n",
       "      <td>2.720</td>\n",
       "      <td>2.34202</td>\n",
       "      <td>1099876</td>\n",
       "      <td>1624755.130</td>\n",
       "      <td>85</td>\n",
       "      <td>1</td>\n",
       "    </tr>\n",
       "    <tr>\n",
       "      <th>2</th>\n",
       "      <td>3</td>\n",
       "      <td>23320.4</td>\n",
       "      <td>1062.1</td>\n",
       "      <td>15382.1</td>\n",
       "      <td>55551.2</td>\n",
       "      <td>7566.0</td>\n",
       "      <td>3231.7</td>\n",
       "      <td>4456.2</td>\n",
       "      <td>1995.4</td>\n",
       "      <td>2064.7</td>\n",
       "      <td>...</td>\n",
       "      <td>2.374</td>\n",
       "      <td>2.601</td>\n",
       "      <td>3.342</td>\n",
       "      <td>2.146</td>\n",
       "      <td>2.684</td>\n",
       "      <td>2.31982</td>\n",
       "      <td>1097999</td>\n",
       "      <td>1622609.518</td>\n",
       "      <td>86</td>\n",
       "      <td>1</td>\n",
       "    </tr>\n",
       "    <tr>\n",
       "      <th>3</th>\n",
       "      <td>4</td>\n",
       "      <td>24360.0</td>\n",
       "      <td>1000.5</td>\n",
       "      <td>14805.4</td>\n",
       "      <td>54041.8</td>\n",
       "      <td>8004.6</td>\n",
       "      <td>3137.3</td>\n",
       "      <td>4262.2</td>\n",
       "      <td>1983.4</td>\n",
       "      <td>2017.7</td>\n",
       "      <td>...</td>\n",
       "      <td>2.366</td>\n",
       "      <td>2.639</td>\n",
       "      <td>3.361</td>\n",
       "      <td>2.056</td>\n",
       "      <td>2.700</td>\n",
       "      <td>2.29215</td>\n",
       "      <td>1070117</td>\n",
       "      <td>1583854.236</td>\n",
       "      <td>87</td>\n",
       "      <td>1</td>\n",
       "    </tr>\n",
       "    <tr>\n",
       "      <th>4</th>\n",
       "      <td>5</td>\n",
       "      <td>25769.4</td>\n",
       "      <td>1124.4</td>\n",
       "      <td>16331.1</td>\n",
       "      <td>54108.6</td>\n",
       "      <td>6677.4</td>\n",
       "      <td>2964.4</td>\n",
       "      <td>4204.6</td>\n",
       "      <td>2409.7</td>\n",
       "      <td>2251.8</td>\n",
       "      <td>...</td>\n",
       "      <td>2.381</td>\n",
       "      <td>2.555</td>\n",
       "      <td>3.450</td>\n",
       "      <td>2.052</td>\n",
       "      <td>2.574</td>\n",
       "      <td>2.30397</td>\n",
       "      <td>1075926</td>\n",
       "      <td>1617375.362</td>\n",
       "      <td>89</td>\n",
       "      <td>1</td>\n",
       "    </tr>\n",
       "  </tbody>\n",
       "</table>\n",
       "<p>5 rows × 141 columns</p>\n",
       "</div>"
      ],
      "text/plain": [
       "   S.No  Left-Lateral-Ventricle  Left-Inf-Lat-Vent  \\\n",
       "0     1                 22916.9              982.7   \n",
       "1     2                 22953.2              984.5   \n",
       "2     3                 23320.4             1062.1   \n",
       "3     4                 24360.0             1000.5   \n",
       "4     5                 25769.4             1124.4   \n",
       "\n",
       "   Left-Cerebellum-White-Matter  Left-Cerebellum-Cortex  Left-Thalamus  \\\n",
       "0                       15196.7                 55796.4         6855.5   \n",
       "1                       15289.7                 55778.6         6835.1   \n",
       "2                       15382.1                 55551.2         7566.0   \n",
       "3                       14805.4                 54041.8         8004.6   \n",
       "4                       16331.1                 54108.6         6677.4   \n",
       "\n",
       "   Left-Caudate  Left-Putamen  Left-Pallidum  3rd-Ventricle  ...  \\\n",
       "0        2956.4        4240.7         2223.9         2034.4  ...   \n",
       "1        3064.2        4498.6         2354.1         1927.1  ...   \n",
       "2        3231.7        4456.2         1995.4         2064.7  ...   \n",
       "3        3137.3        4262.2         1983.4         2017.7  ...   \n",
       "4        2964.4        4204.6         2409.7         2251.8  ...   \n",
       "\n",
       "   rh_supramarginal_thickness  rh_frontalpole_thickness  \\\n",
       "0                       2.408                     2.629   \n",
       "1                       2.417                     2.640   \n",
       "2                       2.374                     2.601   \n",
       "3                       2.366                     2.639   \n",
       "4                       2.381                     2.555   \n",
       "\n",
       "   rh_temporalpole_thickness  rh_transversetemporal_thickness  \\\n",
       "0                      3.519                            2.009   \n",
       "1                      3.488                            2.111   \n",
       "2                      3.342                            2.146   \n",
       "3                      3.361                            2.056   \n",
       "4                      3.450                            2.052   \n",
       "\n",
       "   rh_insula_thickness  rh_MeanThickness_thickness  BrainSegVolNotVent.2  \\\n",
       "0                2.825                     2.33635               1093846   \n",
       "1                2.720                     2.34202               1099876   \n",
       "2                2.684                     2.31982               1097999   \n",
       "3                2.700                     2.29215               1070117   \n",
       "4                2.574                     2.30397               1075926   \n",
       "\n",
       "        eTIV.1  Age  dataset  \n",
       "0  1619602.965   85        1  \n",
       "1  1624755.130   85        1  \n",
       "2  1622609.518   86        1  \n",
       "3  1583854.236   87        1  \n",
       "4  1617375.362   89        1  \n",
       "\n",
       "[5 rows x 141 columns]"
      ]
     },
     "execution_count": 57,
     "metadata": {},
     "output_type": "execute_result"
    }
   ],
   "source": [
    "data.head()"
   ]
  },
  {
   "cell_type": "code",
   "execution_count": 58,
   "metadata": {},
   "outputs": [],
   "source": [
    "#matrix of features\n",
    "X = data.iloc[:,1:138].values\n",
    "#vectors of age  \n",
    "Y = data.iloc[:,139].values"
   ]
  },
  {
   "cell_type": "code",
   "execution_count": 59,
   "metadata": {},
   "outputs": [
    {
     "name": "stdout",
     "output_type": "stream",
     "text": [
      "Feature: 0, Score: 0.00001\n",
      "Feature: 1, Score: 0.00018\n",
      "Feature: 2, Score: 0.00001\n",
      "Feature: 3, Score: 0.00674\n",
      "Feature: 4, Score: 0.00220\n",
      "Feature: 5, Score: 0.00023\n",
      "Feature: 6, Score: 0.00244\n",
      "Feature: 7, Score: 0.00031\n",
      "Feature: 8, Score: 0.00236\n",
      "Feature: 9, Score: 0.00001\n",
      "Feature: 10, Score: 0.00023\n",
      "Feature: 11, Score: 0.00206\n",
      "Feature: 12, Score: 0.00053\n",
      "Feature: 13, Score: 0.00147\n",
      "Feature: 14, Score: 0.01163\n",
      "Feature: 15, Score: 0.00000\n",
      "Feature: 16, Score: 0.00106\n",
      "Feature: 17, Score: 0.02396\n",
      "Feature: 18, Score: 0.01349\n",
      "Feature: 19, Score: 0.00736\n",
      "Feature: 20, Score: 0.00340\n",
      "Feature: 21, Score: 0.00061\n",
      "Feature: 22, Score: 0.01497\n",
      "Feature: 23, Score: 0.00009\n",
      "Feature: 24, Score: 0.00541\n",
      "Feature: 25, Score: 0.00382\n",
      "Feature: 26, Score: 0.00155\n",
      "Feature: 27, Score: 0.00011\n",
      "Feature: 28, Score: 0.01594\n",
      "Feature: 29, Score: 0.00215\n",
      "Feature: 30, Score: 0.00131\n",
      "Feature: 31, Score: 0.00021\n",
      "Feature: 32, Score: 0.00000\n",
      "Feature: 33, Score: 0.52265\n",
      "Feature: 34, Score: 0.00000\n",
      "Feature: 35, Score: 0.00000\n",
      "Feature: 36, Score: 0.00000\n",
      "Feature: 37, Score: 0.00000\n",
      "Feature: 38, Score: 0.00000\n",
      "Feature: 39, Score: 0.00593\n",
      "Feature: 40, Score: 0.00223\n",
      "Feature: 41, Score: 0.00020\n",
      "Feature: 42, Score: 0.00001\n",
      "Feature: 43, Score: 0.00130\n",
      "Feature: 44, Score: 0.00064\n",
      "Feature: 45, Score: 0.00021\n",
      "Feature: 46, Score: 0.00002\n",
      "Feature: 47, Score: 0.01108\n",
      "Feature: 48, Score: 0.00027\n",
      "Feature: 49, Score: 0.00023\n",
      "Feature: 50, Score: 0.00000\n",
      "Feature: 51, Score: 0.00226\n",
      "Feature: 52, Score: 0.00001\n",
      "Feature: 53, Score: 0.15546\n",
      "Feature: 54, Score: 0.00207\n",
      "Feature: 55, Score: 0.00048\n",
      "Feature: 56, Score: 0.00655\n",
      "Feature: 57, Score: 0.00029\n",
      "Feature: 58, Score: 0.00114\n",
      "Feature: 59, Score: 0.00034\n",
      "Feature: 60, Score: 0.00112\n",
      "Feature: 61, Score: 0.00051\n",
      "Feature: 62, Score: 0.00012\n",
      "Feature: 63, Score: 0.00001\n",
      "Feature: 64, Score: 0.00011\n",
      "Feature: 65, Score: 0.00010\n",
      "Feature: 66, Score: 0.00452\n",
      "Feature: 67, Score: 0.00000\n",
      "Feature: 68, Score: 0.00030\n",
      "Feature: 69, Score: 0.00017\n",
      "Feature: 70, Score: 0.00624\n",
      "Feature: 71, Score: 0.00000\n",
      "Feature: 72, Score: 0.00049\n",
      "Feature: 73, Score: 0.00122\n",
      "Feature: 74, Score: 0.00238\n",
      "Feature: 75, Score: 0.00071\n",
      "Feature: 76, Score: 0.00372\n",
      "Feature: 77, Score: 0.00143\n",
      "Feature: 78, Score: 0.00414\n",
      "Feature: 79, Score: 0.00001\n",
      "Feature: 80, Score: 0.00899\n",
      "Feature: 81, Score: 0.00005\n",
      "Feature: 82, Score: 0.00002\n",
      "Feature: 83, Score: 0.00022\n",
      "Feature: 84, Score: 0.00380\n",
      "Feature: 85, Score: 0.00799\n",
      "Feature: 86, Score: 0.00167\n",
      "Feature: 87, Score: 0.00523\n",
      "Feature: 88, Score: 0.00329\n",
      "Feature: 89, Score: 0.00144\n",
      "Feature: 90, Score: 0.00023\n",
      "Feature: 91, Score: 0.00350\n",
      "Feature: 92, Score: 0.00001\n",
      "Feature: 93, Score: 0.00376\n",
      "Feature: 94, Score: 0.00004\n",
      "Feature: 95, Score: 0.00094\n",
      "Feature: 96, Score: 0.00198\n",
      "Feature: 97, Score: 0.00099\n",
      "Feature: 98, Score: 0.00121\n",
      "Feature: 99, Score: 0.00002\n",
      "Feature: 100, Score: 0.00002\n",
      "Feature: 101, Score: 0.00500\n",
      "Feature: 102, Score: 0.00033\n",
      "Feature: 103, Score: 0.00003\n",
      "Feature: 104, Score: 0.00125\n",
      "Feature: 105, Score: 0.00073\n",
      "Feature: 106, Score: 0.00063\n",
      "Feature: 107, Score: 0.00003\n",
      "Feature: 108, Score: 0.00276\n",
      "Feature: 109, Score: 0.00003\n",
      "Feature: 110, Score: 0.00080\n",
      "Feature: 111, Score: 0.00003\n",
      "Feature: 112, Score: 0.00001\n",
      "Feature: 113, Score: 0.00622\n",
      "Feature: 114, Score: 0.00346\n",
      "Feature: 115, Score: 0.00168\n",
      "Feature: 116, Score: 0.00091\n",
      "Feature: 117, Score: 0.00131\n",
      "Feature: 118, Score: 0.00124\n",
      "Feature: 119, Score: 0.04806\n",
      "Feature: 120, Score: 0.00054\n",
      "Feature: 121, Score: 0.00039\n",
      "Feature: 122, Score: 0.00057\n",
      "Feature: 123, Score: 0.00072\n",
      "Feature: 124, Score: 0.00005\n",
      "Feature: 125, Score: 0.00009\n",
      "Feature: 126, Score: 0.00027\n",
      "Feature: 127, Score: 0.00559\n",
      "Feature: 128, Score: 0.00001\n",
      "Feature: 129, Score: 0.00111\n",
      "Feature: 130, Score: 0.00005\n",
      "Feature: 131, Score: 0.00052\n",
      "Feature: 132, Score: 0.00047\n",
      "Feature: 133, Score: 0.00099\n",
      "Feature: 134, Score: 0.00091\n",
      "Feature: 135, Score: 0.00027\n",
      "Feature: 136, Score: 0.00098\n"
     ]
    },
    {
     "data": {
      "image/png": "[encoded data removed]",
      "text/plain": [
       "<Figure size 432x288 with 1 Axes>"
      ]
     },
     "metadata": {
      "needs_background": "light"
     },
     "output_type": "display_data"
    }
   ],
   "source": [
    "#determining feature importance\n",
    "importance = regr.feature_importances_\n",
    "for i,v in enumerate(importance):\n",
    "\tprint('Feature: %0d, Score: %.5f' % (i,v))\n",
    "# plot feature importance\n",
    "pyplot.bar([x for x in range(len(importance))], importance)\n",
    "pyplot.show()"
   ]
  },
  {
   "cell_type": "code",
   "execution_count": 60,
   "metadata": {},
   "outputs": [],
   "source": [
    "#splitting dataset into training and testing dataset\n",
    "from sklearn.model_selection import train_test_split\n",
    "X_train,X_test,Y_train,Y_test = train_test_split(X,Y,test_size=0.2,random_state=0) #test size is 20% of the data, remaining 80 is training"
   ]
  },
  {
   "cell_type": "code",
   "execution_count": 61,
   "metadata": {},
   "outputs": [
    {
     "data": {
      "text/plain": [
       "StandardScaler()"
      ]
     },
     "execution_count": 61,
     "metadata": {},
     "output_type": "execute_result"
    }
   ],
   "source": [
    "#feature scaling to convert all variables to the same scale\n",
    "from sklearn.preprocessing import StandardScaler\n",
    "scaler =StandardScaler()\n",
    "scaler"
   ]
  },
  {
   "cell_type": "code",
   "execution_count": 62,
   "metadata": {},
   "outputs": [],
   "source": [
    "X_train = scaler.fit_transform(X_train)"
   ]
  },
  {
   "cell_type": "code",
   "execution_count": 63,
   "metadata": {},
   "outputs": [
    {
     "data": {
      "text/plain": [
       "array([-1.50702922e-15,  4.30309963e-16,  1.40810440e-14,  9.61933524e-15,\n",
       "        4.91318032e-15, -8.68486742e-16,  2.49306164e-14, -1.13093952e-14,\n",
       "        4.46060020e-16,  1.02124095e-15,  2.01997853e-14,  7.75640236e-15,\n",
       "        5.69876165e-15, -2.99903100e-15,  7.62512998e-15,  8.32512888e-15,\n",
       "        1.46349074e-16,  4.08250028e-15,  1.92107999e-15, -1.39354340e-15,\n",
       "        1.08936528e-15, -2.08635706e-14, -1.37530109e-14,  1.47622217e-14,\n",
       "        1.25928196e-15,  1.23504100e-17, -2.96183422e-14,  1.50445074e-15,\n",
       "       -3.13460632e-15, -3.75350638e-15,  1.47843605e-15, -3.74230561e-15,\n",
       "       -1.15725969e-15, -5.15646040e-16,  0.00000000e+00,  0.00000000e+00,\n",
       "        2.58385522e-16,  0.00000000e+00,  0.00000000e+00, -9.81627665e-16,\n",
       "       -2.16746410e-15, -7.70967774e-15,  2.14062824e-15, -5.95084468e-15,\n",
       "        4.33795012e-15,  5.02958950e-16,  7.60194833e-16,  7.67275789e-15,\n",
       "       -9.44321873e-15, -5.02213327e-15, -2.57083966e-16,  1.61015185e-16,\n",
       "       -4.86790095e-17, -1.35070292e-16, -2.08140868e-14, -2.85274762e-17,\n",
       "        2.69705363e-16,  3.94162021e-16, -2.96947858e-14, -7.41985369e-15,\n",
       "       -3.62300591e-17, -1.43967678e-16,  1.14192022e-16, -1.39072925e-14,\n",
       "        4.29636602e-15,  2.17680246e-14, -3.45109543e-14,  7.57827397e-15,\n",
       "        9.47486665e-15,  4.02702198e-15, -2.06935061e-16, -5.82824059e-14,\n",
       "        1.11271199e-14, -1.84076404e-14,  4.00397992e-15, -3.62383036e-14,\n",
       "       -1.93055302e-14, -1.98026342e-14,  2.86805753e-14, -2.03981145e-14,\n",
       "        3.33349390e-14,  1.43205549e-14,  2.65939309e-14,  1.21377760e-14,\n",
       "       -1.73031461e-14,  2.49299266e-14, -4.95860690e-14,  3.72565150e-15,\n",
       "       -2.01524530e-14, -2.62071758e-15, -4.75818431e-15, -2.92985475e-14,\n",
       "       -1.29653684e-14, -7.75339687e-15, -8.04193990e-15, -2.76816702e-15,\n",
       "       -1.54270170e-14, -1.68873709e-14, -1.25641608e-14,  7.60194833e-16,\n",
       "       -1.39072925e-14, -2.22015700e-14, -1.14600308e-14,  1.18049554e-14,\n",
       "        7.26276370e-16, -4.60698705e-14,  2.09119375e-14, -5.88972493e-16,\n",
       "        4.30710694e-14, -2.45594143e-14, -8.22419877e-15, -2.93090995e-14,\n",
       "       -1.96146846e-14,  9.15145671e-15,  5.10994928e-14,  1.06802141e-14,\n",
       "       -1.60399964e-14,  2.21515442e-14,  2.80628906e-14,  2.45212709e-15,\n",
       "       -2.39064193e-15,  1.77052899e-14, -3.74114283e-14,  2.43306197e-14,\n",
       "        1.61016007e-14, -1.05211862e-14, -4.76953207e-14,  4.16237342e-14,\n",
       "       -1.55833926e-14, -6.23915778e-15,  1.78828024e-14,  9.97813765e-15,\n",
       "       -2.28140978e-15,  1.05269836e-14, -1.62627308e-14,  8.39747404e-15,\n",
       "        7.60194833e-16])"
      ]
     },
     "execution_count": 63,
     "metadata": {},
     "output_type": "execute_result"
    }
   ],
   "source": [
    "X_train.mean(axis=0) #standardized data should have mean of 0"
   ]
  },
  {
   "cell_type": "code",
   "execution_count": 64,
   "metadata": {},
   "outputs": [
    {
     "data": {
      "text/plain": [
       "array([1., 1., 1., 1., 1., 1., 1., 1., 1., 1., 1., 1., 1., 1., 1., 1., 1.,\n",
       "       1., 1., 1., 1., 1., 1., 1., 1., 1., 1., 1., 1., 1., 1., 1., 1., 1.,\n",
       "       0., 0., 1., 0., 0., 1., 1., 1., 1., 1., 1., 1., 1., 1., 1., 1., 1.,\n",
       "       1., 1., 1., 1., 1., 1., 1., 1., 1., 1., 1., 1., 1., 1., 1., 1., 1.,\n",
       "       1., 1., 1., 1., 1., 1., 1., 1., 1., 1., 1., 1., 1., 1., 1., 1., 1.,\n",
       "       1., 1., 1., 1., 1., 1., 1., 1., 1., 1., 1., 1., 1., 1., 1., 1., 1.,\n",
       "       1., 1., 1., 1., 1., 1., 1., 1., 1., 1., 1., 1., 1., 1., 1., 1., 1.,\n",
       "       1., 1., 1., 1., 1., 1., 1., 1., 1., 1., 1., 1., 1., 1., 1., 1., 1.,\n",
       "       1.])"
      ]
     },
     "execution_count": 64,
     "metadata": {},
     "output_type": "execute_result"
    }
   ],
   "source": [
    "X_train.std(axis=0) #standardized data should have a unit variance"
   ]
  },
  {
   "cell_type": "code",
   "execution_count": 65,
   "metadata": {},
   "outputs": [],
   "source": [
    "X_test = scaler.transform(X_test) #use transform on test set so the same mean and variance \n",
    "                                  #used on the training data as is used to transform our test data"
   ]
  },
  {
   "cell_type": "code",
   "execution_count": 66,
   "metadata": {},
   "outputs": [
    {
     "data": {
      "text/plain": [
       "DecisionTreeRegressor()"
      ]
     },
     "execution_count": 66,
     "metadata": {},
     "output_type": "execute_result"
    }
   ],
   "source": [
    "from sklearn.tree import DecisionTreeRegressor\n",
    "regr = DecisionTreeRegressor()\n",
    "regr.fit(X_train, Y_train)"
   ]
  },
  {
   "cell_type": "code",
   "execution_count": 67,
   "metadata": {},
   "outputs": [
    {
     "data": {
      "text/plain": [
       "array([76., 67., 58., ..., 40., 67., 54.])"
      ]
     },
     "execution_count": 67,
     "metadata": {},
     "output_type": "execute_result"
    }
   ],
   "source": [
    "regr.predict(X_train)"
   ]
  },
  {
   "cell_type": "code",
   "execution_count": 68,
   "metadata": {},
   "outputs": [],
   "source": [
    "Y_predict_test=regr.predict(X_test)"
   ]
  },
  {
   "cell_type": "code",
   "execution_count": 69,
   "metadata": {},
   "outputs": [
    {
     "name": "stdout",
     "output_type": "stream",
     "text": [
      "Explained Variance: 0.7219915638758989\n",
      "Mean Square Error: 116.82387706855792\n",
      "R-Squared 0.0\n"
     ]
    }
   ],
   "source": [
    "from sklearn import metrics\n",
    "VAR = metrics.explained_variance_score(Y_test, Y_predict_test)\n",
    "MSE = metrics.mean_squared_error(Y_test, Y_predict_test)\n",
    "R2=metrics.r2_score(Y_test, Y_predict_test)\n",
    "\n",
    "\n",
    "print('Explained Variance:', VAR)\n",
    "print('Mean Square Error:', MSE)\n",
    "print('R-Squared', RMSE)"
   ]
  },
  {
   "cell_type": "code",
   "execution_count": null,
   "metadata": {},
   "outputs": [],
   "source": []
  },
  {
   "cell_type": "code",
   "execution_count": null,
   "metadata": {},
   "outputs": [],
   "source": []
  },
  {
   "cell_type": "code",
   "execution_count": null,
   "metadata": {},
   "outputs": [],
   "source": []
  },
  {
   "cell_type": "code",
   "execution_count": null,
   "metadata": {},
   "outputs": [],
   "source": []
  },
  {
   "cell_type": "code",
   "execution_count": null,
   "metadata": {},
   "outputs": [],
   "source": []
  },
  {
   "cell_type": "code",
   "execution_count": null,
   "metadata": {},
   "outputs": [],
   "source": []
  }
 ],
 "metadata": {
  "kernelspec": {
   "display_name": "Python 3",
   "language": "python",
   "name": "python3"
  },
  "language_info": {
   "codemirror_mode": {
    "name": "ipython",
    "version": 3
   },
   "file_extension": ".py",
   "mimetype": "text/x-python",
   "name": "python",
   "nbconvert_exporter": "python",
   "pygments_lexer": "ipython3",
   "version": "3.8.5"
  }
 },
 "nbformat": 4,
 "nbformat_minor": 4
}
